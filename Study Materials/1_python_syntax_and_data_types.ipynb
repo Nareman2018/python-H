{
 "cells": [
  {
   "cell_type": "markdown",
   "metadata": {},
   "source": [
    "<div style=\"display: flex; align-items: center;\">\n",
    "    <img src=\"../img/es_logo.png\" alt=\"title\" style=\"margin-right: 20px;\">\n",
    "    <h1>Python Syntax and Data Types</h1>\n",
    "</div>"
   ]
  },
  {
   "cell_type": "markdown",
   "metadata": {},
   "source": [
    "### Basic Syntax\n",
    "\n",
    "Python is known for its readability and simplicity. Here are a few basic syntax rules to get you started:\n",
    "\n",
    "- **Indentation**: Python uses indentation to define blocks of code. Indentation is typically 4 spaces.\n",
    "- **Comments**: Use `#` for single-line comments and `'''` or `\"\"\"` for multi-line comments.\n",
    "\n",
    "#### Example:"
   ]
  },
  {
   "cell_type": "code",
   "execution_count": 1,
   "metadata": {},
   "outputs": [
    {
     "name": "stdout",
     "output_type": "stream",
     "text": [
      "Hello, World!\n"
     ]
    }
   ],
   "source": [
    "# This is a single-line comment\n",
    "\n",
    "\"\"\"\n",
    "This is a\n",
    "multi-line comment\n",
    "\"\"\"\n",
    "\n",
    "# Basic print statement\n",
    "print(\"Hello, World!\")"
   ]
  },
  {
   "cell_type": "markdown",
   "metadata": {},
   "source": [
    "### Data Types\n",
    "\n",
    "Python has several built-in data types. Here are a few of the most common ones:\n",
    "\n",
    "- **Numeric Types**: `int`, `float`, `complex`\n",
    "- **Text Type**: `str`\n",
    "- **Sequence Types**: `list`, `tuple`, `range`\n",
    "- **Mapping Type**: `dict`\n",
    "- **Set Types**: `set`\n",
    "- **Boolean Type**: `bool`\n",
    "- **None Type**: `None`"
   ]
  },
  {
   "cell_type": "markdown",
   "metadata": {},
   "source": [
    "1- **Numeric Types: int, float, complex**\n",
    "\n",
    "Python has three numeric types:\n",
    "\n",
    "- **int**: Integer values (e.g., 1, 2, 3)\n",
    "- **float**: Floating-point values (e.g., 1.0, 2.5, 3.14)\n",
    "- **complex**: Complex numbers (e.g., 1 + 2j, 3 - 4j). Complex numbers are written with a \"j\" as the imaginary part.\n",
    "\n",
    "> **Note**: For the purpose of this training, we will focus on `int` and `float` data types.\n",
    "\n",
    "#### Example:"
   ]
  },
  {
   "cell_type": "code",
   "execution_count": 3,
   "metadata": {},
   "outputs": [
    {
     "name": "stdout",
     "output_type": "stream",
     "text": [
      "<class 'int'>\n",
      "<class 'float'>\n",
      "<class 'complex'>\n"
     ]
    }
   ],
   "source": [
    "# Integer\n",
    "x = 10\n",
    "print(type(x))  # Output: <class 'int'>\n",
    "\n",
    "# Float\n",
    "y = 3.14\n",
    "print(type(y))  # Output: <class 'float'>\n",
    "\n",
    "# Complex\n",
    "z = 1 + 2j\n",
    "print(type(z))  # Output: <class 'complex'>"
   ]
  },
  {
   "cell_type": "markdown",
   "metadata": {},
   "source": [
    "#### Arithmetic Operations\n",
    "\n",
    "Python supports the following arithmetic operations:\n",
    "\n",
    "- **Addition**: `+`\n",
    "- **Subtraction**: `-`\n",
    "- **Multiplication**: `*`\n",
    "- **Division**: `/`\n",
    "- **Modulus**: `%`\n",
    "- **Exponentiation**: `**`\n",
    "- **Floor Division**: `//`\n",
    "\n",
    "When performing arithmetic operations, Python follows the standard order of operations (PEMDAS: Parentheses, Exponents, Multiplication and Division, Addition and Subtraction).\n",
    "\n",
    "#### Example:"
   ]
  },
  {
   "cell_type": "code",
   "execution_count": 6,
   "metadata": {},
   "outputs": [
    {
     "name": "stdout",
     "output_type": "stream",
     "text": [
      "Addition: 30\n",
      "Subtraction: -10\n",
      "Multiplication: 200\n",
      "Division: 0.5\n",
      "the type of the result (5.0) is: <class 'float'>\n",
      "Modulus: 10\n",
      "Exponentiation: 100\n",
      "Floor Division: 0\n"
     ]
    }
   ],
   "source": [
    "a = 10\n",
    "b = 20\n",
    "\n",
    "# Addition\n",
    "print(\"Addition:\", a + b)  # Output: 30\n",
    "\n",
    "# Subtraction\n",
    "print(\"Subtraction:\", a - b)  # Output: -10\n",
    "\n",
    "# Multiplication\n",
    "print(\"Multiplication:\", a * b)  # Output: 200\n",
    "\n",
    "# Division\n",
    "print(\"Division:\", a / b)  # Output: 0.5\n",
    "# note: division always returns a float value, even if the result is an integer\n",
    "x = 10/2\n",
    "print(\"the type of the result (\" + str(x) + \") is:\", type(x))  # Output: <class 'float'>\n",
    "\n",
    "# Modulus\n",
    "print(\"Modulus:\", a % b)  # Output: 10\n",
    "\n",
    "# Exponentiation\n",
    "print(\"Exponentiation:\", a ** 2)  # Output: 100\n",
    "\n",
    "# Floor Division\n",
    "print(\"Floor Division:\", a // b)  # Output: 0"
   ]
  },
  {
   "cell_type": "markdown",
   "metadata": {},
   "source": [
    "2- **Text Type: str**\n",
    "\n",
    "Strings are sequences of characters surrounded by either single quotation marks (`'`) or double quotation marks (`\"`) for single-line strings, and triple quotation marks (`'''` or `\"\"\"`) for multi-line strings.\n",
    "\n",
    "#### Example:"
   ]
  },
  {
   "cell_type": "code",
   "execution_count": null,
   "metadata": {},
   "outputs": [
    {
     "name": "stdout",
     "output_type": "stream",
     "text": [
      "Hello, World!\n",
      "This is\n",
      "a multi-line\n",
      "string.\n"
     ]
    }
   ],
   "source": [
    "# Single-line string\n",
    "greeting = \"Hello, World!\"\n",
    "print(greeting)\n",
    "\n",
    "# Multi-line string\n",
    "multi_line = \"\"\"This is\n",
    "a multi-line\n",
    "string.\"\"\"\n",
    "print(multi_line)"
   ]
  },
  {
   "cell_type": "markdown",
   "metadata": {},
   "source": [
    "#### String Operations\n",
    "\n",
    "Python supports the following string operations:\n",
    "\n",
    "- **Concatenation**: `+`\n",
    "- **Repetition**: `*`\n",
    "- **Membership Test**: `in`\n",
    "- **String Formatting**: `format()`\n",
    "\n",
    "#### Example:"
   ]
  },
  {
   "cell_type": "code",
   "execution_count": 20,
   "metadata": {},
   "outputs": [
    {
     "name": "stdout",
     "output_type": "stream",
     "text": [
      "Hello, World!\n",
      "Hello, Hello, Hello, \n",
      ":) Hello, World!\n"
     ]
    }
   ],
   "source": [
    "my_str_1 = \"Hello, \"\n",
    "my_str_2 = \"World!\"\n",
    "\n",
    "# Concatenation\n",
    "print(my_str_1 + my_str_2)  # Output: Hello, World!\n",
    "\n",
    "# Repetition\n",
    "print(my_str_1 * 3)  # Output: Hello, Hello, Hello,\n",
    "\n",
    "# String Formatting\n",
    "my_formatted_str = \"{} Hello, {}\"\n",
    "print(my_formatted_str.format(\":)\", \"World!\"))  # Output: :) Hello, World!"
   ]
  },
  {
   "cell_type": "code",
   "execution_count": 17,
   "metadata": {},
   "outputs": [
    {
     "name": "stdout",
     "output_type": "stream",
     "text": [
      "13\n",
      "Hello, world!\n",
      "HELLO, WORLD!\n",
      "Hello, World!\n",
      "HELLO, WORLD!\n",
      "3\n",
      "True\n",
      "True\n",
      "['hello', ' world!']\n",
      "4\n",
      "4\n",
      "hello, world\n",
      "hello, world!\n"
     ]
    }
   ],
   "source": [
    "# Other string methods\n",
    "my_str = \"hello, world!\"\n",
    "print(len(my_str))  # Output: 13\n",
    "print(my_str.capitalize())  # Output: Hello, world!\n",
    "print(my_str.upper())  # Output: HELLO, WORLD!\n",
    "print(my_str.title())  # Output: Hello, World!\n",
    "print(my_str.swapcase())  # Output: HELLO, WORLD!\n",
    "print(my_str.count('l'))  # Output: 3\n",
    "print(my_str.startswith('hello'))  # Output: True\n",
    "print(my_str.endswith('world!'))  # Output: True\n",
    "print(my_str.split(','))  # Output: ['hello', ' world!']\n",
    "print(my_str.find('o'))  # Output: 4\n",
    "print(my_str.index('o'))  # Output: 4\n",
    "print(my_str.strip('!'))  # Output: Hello, World\n",
    "print(my_str.replace('World', 'Universe'))  # Output: Hello, Universe!"
   ]
  },
  {
   "cell_type": "markdown",
   "metadata": {},
   "source": [
    "3- **Boolean Type: bool**\n",
    "\n",
    "Boolean values represent truth values. Python has two boolean values: `True` and `False`.\n",
    "\n",
    "#### Example:"
   ]
  },
  {
   "cell_type": "code",
   "execution_count": 11,
   "metadata": {},
   "outputs": [
    {
     "name": "stdout",
     "output_type": "stream",
     "text": [
      "False\n",
      "True\n",
      "False\n"
     ]
    }
   ],
   "source": [
    "bool_1 = True\n",
    "bool_2 = False\n",
    "\n",
    "# Logical AND\n",
    "print(bool_1 and bool_2)  # Output: False\n",
    "\n",
    "# Logical OR\n",
    "print(bool_1 or bool_2)  # Output: True\n",
    "\n",
    "# Logical NOT\n",
    "print(not bool_1)  # Output: False"
   ]
  },
  {
   "cell_type": "markdown",
   "metadata": {},
   "source": [
    "4- **Sequence Types: list, tuple, range**\n",
    "\n",
    "Python has three sequence types:\n",
    "\n",
    "- **list**: Ordered and changeable collection of items. Lists are defined by square brackets (`[]`).\n",
    "- **tuple**: Ordered and unchangeable collection of items. Tuples are defined by parentheses (`()`).\n",
    "- **range**: A sequence of numbers. Ranges are defined by the `range()` function.\n",
    "\n",
    "#### Example:"
   ]
  },
  {
   "cell_type": "code",
   "execution_count": 4,
   "metadata": {},
   "outputs": [
    {
     "name": "stdout",
     "output_type": "stream",
     "text": [
      "[1, 2, 3]\n",
      "(1, 2, 3)\n",
      "range(0, 10)\n"
     ]
    }
   ],
   "source": [
    "# list\n",
    "my_list = [1, 2, 3]\n",
    "print(my_list)\n",
    "\n",
    "# tuple\n",
    "my_tuple = (1, 2, 3)\n",
    "print(my_tuple)\n",
    "\n",
    "# set\n",
    "my_range = range(10)\n",
    "print(my_range)"
   ]
  },
  {
   "cell_type": "markdown",
   "metadata": {},
   "source": [
    "#### Mutable vs. Immutable\n",
    "\n",
    "- **Mutable**: Objects whose value can be changed after creation (e.g., lists).\n",
    "- **Immutable**: Objects whose value cannot be changed after creation (e.g., tuples, ranges and strings)."
   ]
  },
  {
   "cell_type": "markdown",
   "metadata": {},
   "source": [
    "5- **Mapping Type: dict**\n",
    "\n",
    "Dictionaries are collections of items that are unordered, changeable, and indexed. Dictionaries are defined by curly brackets (`{}`) and consist of key-value pairs.\n",
    "\n",
    "#### Example:"
   ]
  },
  {
   "cell_type": "code",
   "execution_count": 9,
   "metadata": {},
   "outputs": [
    {
     "name": "stdout",
     "output_type": "stream",
     "text": [
      "{'name': 'John', 'age': 25}\n",
      "{1: 'apple', 'two': 'banana', 3: 'cherry'}\n",
      "banana\n",
      "{1: 'apple', 'two': 'orange', 3: 'cherry'}\n",
      "{'two': 'orange', 3: 'cherry'}\n"
     ]
    }
   ],
   "source": [
    "# Dictionary with string keys\n",
    "my_dict = {'name': 'John', 'age': 25}\n",
    "print(my_dict)\n",
    "\n",
    "# Dictionary with mixed keys\n",
    "my_dict = {1: 'apple', \"two\": 'banana', 3: 'cherry'}\n",
    "print(my_dict)\n",
    "\n",
    "# Accessing elements\n",
    "my_element = my_dict['two']\n",
    "print(my_element)  # Output: banana\n",
    "\n",
    "# Updating elements\n",
    "my_dict['two'] = 'orange'\n",
    "print(my_dict)  # Output: {1: 'apple', 'two': 'orange', 3: 'cherry'}\n",
    "\n",
    "# Deleting elements\n",
    "del my_dict[1]\n",
    "print(my_dict)  # Output: {'two': 'orange', 3: 'cherry'}"
   ]
  },
  {
   "cell_type": "markdown",
   "metadata": {},
   "source": [
    "6- **Set Types: set**\n",
    "\n",
    "Sets are unordered collections of unique items. Sets are defined by curly brackets (`{}`).\n",
    "\n",
    "#### Example:"
   ]
  },
  {
   "cell_type": "code",
   "execution_count": 10,
   "metadata": {},
   "outputs": [
    {
     "name": "stdout",
     "output_type": "stream",
     "text": [
      "{1, 2, 3}\n",
      "{1, 2, 3, 4}\n",
      "{2, 3, 4}\n",
      "{1, 2, 3, 4, 5}\n",
      "{3}\n",
      "{1, 2}\n",
      "{1, 2, 4, 5}\n",
      "True\n"
     ]
    }
   ],
   "source": [
    "my_set = {1, 2, 3}\n",
    "print(my_set)\n",
    "\n",
    "# Adding elements\n",
    "my_set.add(4)\n",
    "print(my_set)  # Output: {1, 2, 3, 4}\n",
    "\n",
    "# Removing elements\n",
    "my_set.remove(1)\n",
    "print(my_set)  # Output: {2, 3, 4}\n",
    "\n",
    "# Union\n",
    "my_set_1 = {1, 2, 3}\n",
    "my_set_2 = {3, 4, 5}\n",
    "print(my_set_1.union(my_set_2))  # Output: {1, 2, 3, 4, 5}\n",
    "\n",
    "# Intersection\n",
    "print(my_set_1.intersection(my_set_2))  # Output: {3}\n",
    "\n",
    "# Difference\n",
    "print(my_set_1.difference(my_set_2))  # Output: {1, 2}\n",
    "\n",
    "# Symmetric Difference\n",
    "print(my_set_1.symmetric_difference(my_set_2))  # Output: {1, 2, 4, 5}\n",
    "\n",
    "# Membership\n",
    "print(1 in my_set_1)  # Output: True"
   ]
  },
  {
   "cell_type": "markdown",
   "metadata": {},
   "source": [
    "7- **None Type: None**\n",
    "\n",
    "The `None` type represents the absence of a value. It is used to define a null value or no value at all.\n",
    "\n",
    "A None value does not represent False or 0. It is a unique data type with only one value: `None`.\n",
    "\n",
    "#### Example:"
   ]
  },
  {
   "cell_type": "code",
   "execution_count": 14,
   "metadata": {},
   "outputs": [
    {
     "name": "stdout",
     "output_type": "stream",
     "text": [
      "None\n",
      "<class 'NoneType'>\n",
      "True\n"
     ]
    }
   ],
   "source": [
    "my_var = None\n",
    "print(my_var)  # Output: None\n",
    "print(type(my_var))  # Output: <class 'NoneType'>\n",
    "print((my_var is None))  # Output: True"
   ]
  },
  {
   "cell_type": "markdown",
   "metadata": {},
   "source": [
    "### Summary\n",
    "\n",
    "In this notebook, we covered the basic syntax of Python and introduced some of the most common data types.\n",
    "\n",
    "- **Numeric Types**: `int`, `float`, `complex`\n",
    "- **Text Type**: `str` an ordered sequence of characters\n",
    "- **Boolean Type**: `bool` a truth value\n",
    "- **Sequence Types**: `list`, `tuple`, `range`\n",
    "- **Mapping Type**: `dict` a collection of key-value pairs\n",
    "- **Set Types**: `set` an unordered collection of unique items\n",
    "- **None Type**: `None` a null value\n",
    "\n",
    "These basic data types and syntax rules form the foundation of Python programming. As we progress through the course, we will dive deeper into each of these topics and explore more advanced concepts."
   ]
  }
 ],
 "metadata": {
  "kernelspec": {
   "display_name": "Python 3",
   "language": "python",
   "name": "python3"
  },
  "language_info": {
   "codemirror_mode": {
    "name": "ipython",
    "version": 3
   },
   "file_extension": ".py",
   "mimetype": "text/x-python",
   "name": "python",
   "nbconvert_exporter": "python",
   "pygments_lexer": "ipython3",
   "version": "3.11.3"
  }
 },
 "nbformat": 4,
 "nbformat_minor": 2
}
