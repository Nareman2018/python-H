{
 "cells": [
  {
   "cell_type": "markdown",
   "metadata": {},
   "source": [
    "<div style=\"display: flex; align-items: center;\">\n",
    "    <img src=\"../img/es_logo.png\" alt=\"title\" style=\"margin-right: 20px;\">\n",
    "    <h1>Python Control Structures</h1>\n",
    "</div>"
   ]
  },
  {
   "cell_type": "markdown",
   "metadata": {},
   "source": [
    "### Control Structures\n",
    "\n",
    "Control structures are blocks of code that determine the flow of execution of a program. They are used to execute code based on certain conditions. In Python, the types of control structures are:\n",
    "\n",
    "- Sequential structure: The code is executed in the order it is written. (The default behavior of the code)\n",
    "- Conditional structure: The code is executed based on certain conditions. (This structure is used for making decisions by checking conditions)\n",
    "- Repetition structure: The code is executed repeatedly. (This structure is used to repeat a block of code)"
   ]
  },
  {
   "cell_type": "markdown",
   "metadata": {},
   "source": [
    "1- **Sequential Structure:**\n",
    "```python\n",
    "print(\"Hello\")\n",
    "print(\"World\")\n",
    "a = 10\n",
    "b = 20\n",
    "print(a + b)\n",
    "```\n",
    "Output:\n",
    "```python\n",
    "Hello\n",
    "World\n",
    "30\n",
    "```"
   ]
  },
  {
   "cell_type": "markdown",
   "metadata": {},
   "source": [
    "2- **Conditional Structure:**\n",
    "\n",
    "The statements used in conditional structures are also called decision-making statements, conditional statements, or selection statements.\n",
    "\n",
    "A program can have multiple paths of execution based on the conditions, it can test many conditions and execute different blocks of code based on whether the conditions are true or false.\n",
    "\n",
    "The conditions that are used in conditional statements are called Boolean expressions. A Boolean expression is an expression that evaluates to either True or False.\n",
    "\n",
    "Here are some of the commonly used conditional statements in Python:\n",
    "\n",
    "- `if` statement\n",
    "- `if-else` statement\n",
    "- Nested `if` statement\n",
    "- `if-elif-else` statement\n",
    "\n",
    "#### Example:"
   ]
  },
  {
   "cell_type": "code",
   "execution_count": null,
   "metadata": {},
   "outputs": [],
   "source": [
    "# example if statement\n",
    "\n",
    "x = 5\n",
    "if x < 10:\n",
    "    print('Smaller')\n",
    "\n",
    "if x > 20:\n",
    "    print('Bigger')"
   ]
  },
  {
   "cell_type": "code",
   "execution_count": null,
   "metadata": {},
   "outputs": [],
   "source": [
    "# example if-else statement\n",
    "\n",
    "x = 5\n",
    "if x < 10:\n",
    "    print('Smaller')\n",
    "else:\n",
    "    print('Bigger')"
   ]
  },
  {
   "cell_type": "code",
   "execution_count": null,
   "metadata": {},
   "outputs": [],
   "source": [
    "# example nested if statement\n",
    "\n",
    "x = 5\n",
    "if x < 10:\n",
    "    print('Smaller')\n",
    "    if x < 5:\n",
    "        print('Really small')\n",
    "    if x > 5:\n",
    "        print('Not that small')"
   ]
  },
  {
   "cell_type": "code",
   "execution_count": null,
   "metadata": {},
   "outputs": [],
   "source": [
    "# example if-elif-else statement\n",
    "\n",
    "x = 5\n",
    "if x < 10:\n",
    "    print('Smaller')\n",
    "elif x > 10:\n",
    "    print('Biger')\n",
    "else:\n",
    "    print('Equal')"
   ]
  },
  {
   "cell_type": "markdown",
   "metadata": {},
   "source": [
    "3- **Repetition Structure:**\n",
    "\n",
    "The statements used in repetition structures are also called looping statements or iteration statements.\n",
    "\n",
    "A loop is a programming structure that repeats a sequence of instructions until a specific condition is met. The repetition structure allows you to execute a block of code multiple times.\n",
    "\n",
    "There are two types of loops in Python:\n",
    "\n",
    "- `for` loop: The `for` loop is used to iterate over a sequence (list, tuple, string) or other iterable objects.\n",
    "- `while` loop: The `while` loop is used to execute a block of code repeatedly as long as the condition is true.\n",
    "\n",
    "#### Example:"
   ]
  },
  {
   "cell_type": "code",
   "execution_count": null,
   "metadata": {},
   "outputs": [],
   "source": [
    "# for loop example\n",
    "\n",
    "for i in [5, 4, 3, 2, 1]:\n",
    "    print(i)\n",
    "\n",
    "for i in range(5):\n",
    "    print(i)\n",
    "\n",
    "my_dict = {'a': 1, 'b': 2, 'c': 3}\n",
    "for key, value in my_dict.items():\n",
    "    print(key, value)"
   ]
  },
  {
   "cell_type": "code",
   "execution_count": null,
   "metadata": {},
   "outputs": [],
   "source": [
    "# while loop example\n",
    "\n",
    "n = 5\n",
    "while n > 0:\n",
    "    print(n)\n",
    "    n = n - 1\n",
    "\n",
    "x = 5\n",
    "y = 0\n",
    "condition = x > y\n",
    "while condition:\n",
    "    print(f'x: {x}, y: {y}')\n",
    "    print('x is greater than y')\n",
    "    y = y + 1\n",
    "    condition = x > y"
   ]
  },
  {
   "cell_type": "markdown",
   "metadata": {},
   "source": [
    "### Summary\n",
    "\n",
    "In this notebook, we have learned about the control structures in Python. We have learned about the sequential structure, conditional structure, and repetition structure. We have also learned about the different types of conditional statements and loops in Python."
   ]
  },
  {
   "cell_type": "markdown",
   "metadata": {},
   "source": []
  }
 ],
 "metadata": {
  "kernelspec": {
   "display_name": "Python 3",
   "language": "python",
   "name": "python3"
  },
  "language_info": {
   "codemirror_mode": {
    "name": "ipython",
    "version": 3
   },
   "file_extension": ".py",
   "mimetype": "text/x-python",
   "name": "python",
   "nbconvert_exporter": "python",
   "pygments_lexer": "ipython3",
   "version": "3.11.3"
  }
 },
 "nbformat": 4,
 "nbformat_minor": 2
}
